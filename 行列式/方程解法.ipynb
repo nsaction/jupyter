{
 "cells": [
  {
   "cell_type": "markdown",
   "id": "5227a210-a72d-4cae-baaa-23ba8e487b8f",
   "metadata": {},
   "source": [
    "#### $\n",
    "\\begin{cases}\n",
    "x+y=80\\\\30x + 20y = 2050\n",
    "\\end{cases}\n",
    "$\n",
    "\n",
    "> 对方程求解，有以下两种解法"
   ]
  },
  {
   "cell_type": "code",
   "execution_count": 16,
   "id": "d2ad71a3-b79a-4bdb-93b5-4d3fe281780b",
   "metadata": {},
   "outputs": [
    {
     "data": {
      "text/plain": [
       "{x: 45, y: 35}"
      ]
     },
     "execution_count": 16,
     "metadata": {},
     "output_type": "execute_result"
    }
   ],
   "source": [
    "#第一种解法\n",
    "\n",
    "import sympy\n",
    "\n",
    "x,y = sympy.symbols(('x','y'))\n",
    "\n",
    "f1=y+x-80\n",
    "f2=30*x+20*y-2050\n",
    "sympy.solve([f1,f2],[x,y])"
   ]
  },
  {
   "cell_type": "code",
   "execution_count": 2,
   "id": "f378bef8-4edd-4dc4-8a05-4eb799443112",
   "metadata": {},
   "outputs": [
    {
     "data": {
      "text/plain": [
       "array([45., 35.])"
      ]
     },
     "execution_count": 2,
     "metadata": {},
     "output_type": "execute_result"
    }
   ],
   "source": [
    "#第二种解法\n",
    "\n",
    "import numpy as np\n",
    "\n",
    "D = np.array([[1,1],[30,20]])\n",
    "arr = np.array([80,2050])\n",
    "x = np.linalg.solve(D,arr)\n",
    "x"
   ]
  },
  {
   "cell_type": "markdown",
   "id": "e0ffd0ca-7957-46d7-91ce-0ce3595bbae5",
   "metadata": {
    "tags": []
   },
   "source": [
    "解法2是使用行列式求解的\n",
    "\n",
    "- D是由未知数系数构成的行列式\n",
    "\n",
    "\n",
    "$\n",
    "\\left| \\begin{array}{ccc}\n",
    "1 & 1\\\\\n",
    "30 & 20\n",
    "\\end{array} \\right|\n",
    "$\n",
    "\n",
    "- arr是由常数项构成的数组"
   ]
  },
  {
   "cell_type": "code",
   "execution_count": 5,
   "id": "a48194f6-7bf7-40ed-bab7-bdba88e3dac2",
   "metadata": {},
   "outputs": [
    {
     "data": {
      "text/plain": [
       "-10.000000000000002"
      ]
     },
     "execution_count": 5,
     "metadata": {},
     "output_type": "execute_result"
    }
   ],
   "source": [
    "#求行列式的值\n",
    "\n",
    "np.linalg.det(D)\n",
    "DT = D.T\n",
    "np.linalg.det(DT)"
   ]
  },
  {
   "cell_type": "code",
   "execution_count": 18,
   "id": "e4cf62e7-4672-4bdf-b8a8-3638c8ccc135",
   "metadata": {},
   "outputs": [
    {
     "data": {
      "text/plain": [
       "-1.0"
      ]
     },
     "execution_count": 18,
     "metadata": {},
     "output_type": "execute_result"
    }
   ],
   "source": [
    "A = np.mat(([1,2,3],[1,1,2],[0,1,2]))\n",
    "B = np.linalg.inv(A)\n",
    "C = A*np.linalg.det(B)\n",
    "np.linalg.det(C)\n",
    "np.linalg.det(A)"
   ]
  }
 ],
 "metadata": {
  "kernelspec": {
   "display_name": "Python 3",
   "language": "python",
   "name": "python3"
  },
  "language_info": {
   "codemirror_mode": {
    "name": "ipython",
    "version": 3
   },
   "file_extension": ".py",
   "mimetype": "text/x-python",
   "name": "python",
   "nbconvert_exporter": "python",
   "pygments_lexer": "ipython3",
   "version": "3.8.8"
  }
 },
 "nbformat": 4,
 "nbformat_minor": 5
}
