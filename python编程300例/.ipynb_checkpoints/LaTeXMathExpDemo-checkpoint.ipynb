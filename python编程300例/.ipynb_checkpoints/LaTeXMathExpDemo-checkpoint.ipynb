{
 "cells": [
  {
   "cell_type": "markdown",
   "metadata": {},
   "source": [
    "# 公式示例"
   ]
  },
  {
   "cell_type": "raw",
   "metadata": {},
   "source": [
    "贝叶斯公式 $P(A \\mid B) = \\frac{ P(B \\mid A) P(A) }{ P(B) }$ 是概率统计中的应用所观察到的现象对有关概率分布的主观判断（即先验概率）进行修正的标准方法。\n",
    "\n",
    "---\n",
    "\n",
    "柯西-施瓦茨不等式是一个在众多背景下都有应用的不等式，例如线性代数，数学分析，概率论，向量代数以及其他许多领域。其表达式如下：  \n",
    "\n",
    "$$\n",
    "\\left( \\sum_{k=1}^n a_k b_k \\right)^2 \\leq \\left( \\sum_{k=1}^n a_k^2 \\right) \\left( \\sum_{k=1}^n b_k^2 \\right)\n",
    "$$ \n",
    "\n",
    "它被认为是数学中最重要的不等式之一。此不等式最初于1821年被柯西提出，其积分形式在1859被布尼亚克夫斯基提出，而积分形式的现代证明则由施瓦兹于1888年给出。"
   ]
  },
  {
   "cell_type": "markdown",
   "metadata": {},
   "source": [
    "贝叶斯公式 $P(A \\mid B) = \\frac{ P(B \\mid A) P(A) }{ P(B) }$ 是概率统计中的应用所观察到的现象对有关概率分布的主观判断（即先验概率）进行修正的标准方法。\n",
    "\n",
    "---\n",
    "\n",
    "柯西-施瓦茨不等式是一个在众多背景下都有应用的不等式，例如线性代数，数学分析，概率论，向量代数以及其他许多领域。其表达式如下：  \n",
    "\n",
    "$$\n",
    "\\left( \\sum_{k=1}^n a_k b_k \\right)^2 \\leq \\left( \\sum_{k=1}^n a_k^2 \\right) \\left( \\sum_{k=1}^n b_k^2 \\right)\n",
    "$$ \n",
    "\n",
    "它被认为是数学中最重要的不等式之一。此不等式最初于1821年被柯西提出，其积分形式在1859被布尼亚克夫斯基提出，而积分形式的现代证明则由施瓦兹于1888年给出。"
   ]
  },
  {
   "cell_type": "markdown",
   "metadata": {},
   "source": [
    "# 上标与下标"
   ]
  },
  {
   "cell_type": "raw",
   "metadata": {},
   "source": [
    "分别显示 $e^2x$ 和 $e^{2x}$，以及 $x_2i$ 和 $x_{2i}$"
   ]
  },
  {
   "cell_type": "markdown",
   "metadata": {},
   "source": [
    "分别显示 $e^2x$ 和 $e^{2x}$，以及 $x_2i$ 和 $x_{2i}$"
   ]
  },
  {
   "cell_type": "markdown",
   "metadata": {},
   "source": [
    "# 命令 "
   ]
  },
  {
   "cell_type": "raw",
   "metadata": {},
   "source": [
    "分式：frac,  其格式为 $$\\frac{分子}{分母}$$\n",
    "\n",
    "\n",
    "开平方：sqrt,\t其格式为 $$\\sqrt{x}$$\n",
    "\n",
    "\n",
    "开n次方：sqrt[n],  其格式为 $$\\sqrt[n]{x}$$\n",
    "\n",
    "\n",
    "积分运算符：int,  其格式为$$\\int_{下限}^{上限}{被积表达式}$$\n",
    "\n",
    "\n",
    "求和运算Σ：sum， 其格式为$$\\sum_{下界}^{上界}{表达式}$$\n",
    "\n",
    "\n",
    "向量→：vec, 其格式为$$\\vec{AB}$$\n",
    "\n",
    "\n",
    "水平花括号：overbrace或underbrace，其格式为\n",
    "\n",
    "$$\\overbrace{花括号下的表达式}^{上标}$$ 或\n",
    "\n",
    "$$\\underbrace{花括号上的表达式}_{下标}$$\n",
    "\n",
    "一元二次方程求根公式：\n",
    "\n",
    "$$\\frac{-b\\pm\\sqrt{b^2-4ac}}{2a}$$\n",
    "\n",
    "希腊字母表示法：\n",
    "\n",
    "\\\\alpha, \\\\beta, \\\\gamma, \\\\pi, \\\\phi 显示为： $\\alpha, \\beta,\\gamma,\\pi,\\phi$  \n",
    "\n",
    "A, B, \\\\Gamma, \\\\Pi, \\\\Phi 显示为： $A,B,\\Gamma,\\Pi,\\Phi$\n",
    "\n",
    "符号示例：\n",
    "\n",
    "$$\\sin(kx-\\omega t)$$\n",
    "\n",
    "$$\\times, \\pm, \\cup, \\cap$$\n",
    "\n",
    "$$ \\leq, \\geq, \\approx, \\neq $$\n",
    "\n",
    "使用括号：\n",
    "\n",
    "$$(xy), [xy], \\{xy\\}$$\n",
    "\n",
    "$$(\\sum_{k=1}^n a_k b_k)^2$$\n",
    "\n",
    "\n",
    "$$\\left( \\sum_{k=1}^n a_k b_k \\right)^2$$\n"
   ]
  },
  {
   "cell_type": "markdown",
   "metadata": {},
   "source": [
    "分式：frac,  其格式为 $$\\frac{分子}{分母}$$\n",
    "\n",
    "\n",
    "开平方：sqrt,\t其格式为 $$\\sqrt{x}$$\n",
    "\n",
    "\n",
    "开n次方：sqrt[n],  其格式为 $$\\sqrt[n]{x}$$\n",
    "\n",
    "\n",
    "积分运算符：int,  其格式为$$\\int_{下限}^{上限}{被积表达式}$$\n",
    "\n",
    "\n",
    "求和运算Σ：sum， 其格式为$$\\sum_{下界}^{上界}{表达式}$$\n",
    "\n",
    "\n",
    "向量→：vec, 其格式为$$\\vec{AB}$$\n",
    "\n",
    "\n",
    "水平花括号：overbrace或underbrace，其格式为\n",
    "\n",
    "$$\\overbrace{花括号下的表达式}^{上标}$$ 或\n",
    "\n",
    "$$\\underbrace{花括号上的表达式}_{下标}$$\n",
    "\n",
    "一元二次方程求根公式：\n",
    "\n",
    "$$\\frac{-b\\pm\\sqrt{b^2-4ac}}{2a}$$\n",
    "\n",
    "希腊字母表示法：\n",
    "\n",
    "\\\\alpha, \\\\beta, \\\\gamma, \\\\pi, \\\\phi 显示为： $\\alpha, \\beta,\\gamma,\\pi,\\phi$  \n",
    "\n",
    "A, B, \\\\Gamma, \\\\Pi, \\\\Phi 显示为： $A,B,\\Gamma,\\Pi,\\Phi$\n",
    "\n",
    "符号示例：\n",
    "\n",
    "$$\\sin(kx-\\omega t)$$\n",
    "\n",
    "$$\\times, \\pm, \\cup, \\cap$$\n",
    "\n",
    "$$ \\leq, \\geq, \\approx, \\neq $$\n",
    "\n",
    "使用括号：\n",
    "\n",
    "$$(xy), [xy], \\{xy\\}$$\n",
    "\n",
    "$$(\\sum_{k=1}^n a_k b_k)^2$$\n",
    "\n",
    "\n",
    "$$\\left( \\sum_{k=1}^n a_k b_k \\right)^2$$\n"
   ]
  },
  {
   "cell_type": "raw",
   "metadata": {},
   "source": [
    "阶乘公式：\n",
    "\n",
    "$$\n",
    "n!=\\begin{cases}\n",
    "1,&n=0\\\\n\\times(n-1)!,&n>0\n",
    "\\end{cases}\n",
    "$$"
   ]
  },
  {
   "cell_type": "markdown",
   "metadata": {},
   "source": [
    "$$\n",
    "n!=\\begin{cases}\n",
    "1,&n=0\\\\n\\times(n-1)!,&n>0\n",
    "\\end{cases}\n",
    "$$"
   ]
  },
  {
   "cell_type": "raw",
   "metadata": {},
   "source": [
    "牛顿-莱布尼兹公式：\n",
    "\n",
    "$$\n",
    "\\int_a^b{f(x)d(x)}=F(b)-F(a)\n",
    "$$"
   ]
  },
  {
   "cell_type": "markdown",
   "metadata": {},
   "source": [
    "$$\n",
    "\\int_a^b{f(x)d(x)}=F(b)-F(a)\n",
    "$$"
   ]
  },
  {
   "cell_type": "raw",
   "metadata": {},
   "source": [
    "麦克斯韦方程组：\n",
    "$$\n",
    "\\begin{align}\n",
    "\\nabla \\times \\vec{\\mathbf{B}} -\\, \\frac1c\\, \\frac{\\partial\\vec{\\mathbf{E}}}{\\partial t} & = \\frac{4\\pi}{c}\\vec{\\mathbf{j}} \\\\\n",
    "\\nabla \\cdot \\vec{\\mathbf{E}} & = 4 \\pi \\rho \\\\\n",
    "\\nabla \\times \\vec{\\mathbf{E}}\\, +\\, \\frac1c\\, \\frac{\\partial\\vec{\\mathbf{B}}}{\\partial t} & = \\vec{\\mathbf{0}} \\\\\n",
    "\\nabla \\cdot \\vec{\\mathbf{B}} & = 0\n",
    "\\end{align}\n",
    "$$"
   ]
  },
  {
   "cell_type": "markdown",
   "metadata": {},
   "source": [
    "$$\n",
    "\\begin{align}\n",
    "\\nabla \\times \\vec{\\mathbf{B}} -\\, \\frac1c\\, \\frac{\\partial\\vec{\\mathbf{E}}}{\\partial t} & = \\frac{4\\pi}{c}\\vec{\\mathbf{j}} \\\\   \\nabla \\cdot \\vec{\\mathbf{E}} & = 4 \\pi \\rho \\\\\n",
    "\\nabla \\times \\vec{\\mathbf{E}}\\, +\\, \\frac1c\\, \\frac{\\partial\\vec{\\mathbf{B}}}{\\partial t} & = \\vec{\\mathbf{0}} \\\\\n",
    "\\nabla \\cdot \\vec{\\mathbf{B}} & = 0\n",
    "\\end{align}\n",
    "$$"
   ]
  }
 ],
 "metadata": {
  "kernelspec": {
   "display_name": "Python 3",
   "language": "python",
   "name": "python3"
  },
  "language_info": {
   "codemirror_mode": {
    "name": "ipython",
    "version": 3
   },
   "file_extension": ".py",
   "mimetype": "text/x-python",
   "name": "python",
   "nbconvert_exporter": "python",
   "pygments_lexer": "ipython3",
   "version": "3.7.6"
  }
 },
 "nbformat": 4,
 "nbformat_minor": 2
}
