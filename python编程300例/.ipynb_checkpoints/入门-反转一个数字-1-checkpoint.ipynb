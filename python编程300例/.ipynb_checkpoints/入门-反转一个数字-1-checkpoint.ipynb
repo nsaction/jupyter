{
 "cells": [
  {
   "cell_type": "code",
   "execution_count": 31,
   "metadata": {},
   "outputs": [
    {
     "name": "stdin",
     "output_type": "stream",
     "text": [
      "请输入一个数字： 65463212\n"
     ]
    },
    {
     "name": "stdout",
     "output_type": "stream",
     "text": [
      "21236456\n",
      "<class 'int'>\n"
     ]
    }
   ],
   "source": [
    "class Solution():\n",
    "            \n",
    "    def reverseInteger(self,num):\n",
    "        n=1\n",
    "        ans = num[-n]\n",
    "        while n<len(num):\n",
    "            n=n+1\n",
    "            ans=ans+num[-n]\n",
    "        return int(ans)\n",
    "\n",
    "if __name__=='__main__':\n",
    "    num = input('请输入一个数字：')\n",
    "    solution=Solution()\n",
    "    rev=solution.reverseInteger(num)\n",
    "    print(rev)"
   ]
  }
 ],
 "metadata": {
  "kernelspec": {
   "display_name": "Python 3",
   "language": "python",
   "name": "python3"
  },
  "language_info": {
   "codemirror_mode": {
    "name": "ipython",
    "version": 3
   },
   "file_extension": ".py",
   "mimetype": "text/x-python",
   "name": "python",
   "nbconvert_exporter": "python",
   "pygments_lexer": "ipython3",
   "version": "3.7.6"
  }
 },
 "nbformat": 4,
 "nbformat_minor": 4
}
