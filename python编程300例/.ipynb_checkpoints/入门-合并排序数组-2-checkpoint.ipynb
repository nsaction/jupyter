{
 "cells": [
  {
   "cell_type": "markdown",
   "metadata": {},
   "source": [
    "### 合并两个升序数组A和B，形成一个新的数组，新的数组也要有序"
   ]
  },
  {
   "cell_type": "code",
   "execution_count": 39,
   "metadata": {},
   "outputs": [
    {
     "name": "stdin",
     "output_type": "stream",
     "text": [
      "请输入数组A： 2,3,5,9,15\n",
      "请输入数组B： 5,6,8,9,15,25,26\n"
     ]
    },
    {
     "name": "stdout",
     "output_type": "stream",
     "text": [
      "[2, 3, 5, 5, 6, 8, 9, 9, 15, 15, 25, 26]\n"
     ]
    }
   ],
   "source": [
    "class Solution():\n",
    "    \n",
    "    def sort(self,x,y):\n",
    "        C=[]\n",
    "        while x and y:\n",
    "            if x[0]<y[0]:\n",
    "                C.append(x.pop(0))\n",
    "            elif x[0]==y[0]:\n",
    "                C.append(x.pop(0))\n",
    "                C.append(y.pop(0))\n",
    "            else:C.append(y.pop(0))\n",
    "        C=C+x+y\n",
    "        return C\n",
    "\n",
    "    \n",
    "if __name__=='__main__':\n",
    "    A=input(\"请输入数组A,用逗号隔开：\")\n",
    "    B=input(\"请输入数组B,用逗号隔开：\")\n",
    "    A=A.split(',')\n",
    "    A=list(map(int,A))\n",
    "    B=B.split(',')\n",
    "    B=list(map(int,B))\n",
    "\n",
    "    solution=Solution()\n",
    "    C=solution.sort(A,B)\n",
    "    print(C)"
   ]
  }
 ],
 "metadata": {
  "kernelspec": {
   "display_name": "Python 3",
   "language": "python",
   "name": "python3"
  },
  "language_info": {
   "codemirror_mode": {
    "name": "ipython",
    "version": 3
   },
   "file_extension": ".py",
   "mimetype": "text/x-python",
   "name": "python",
   "nbconvert_exporter": "python",
   "pygments_lexer": "ipython3",
   "version": "3.7.6"
  }
 },
 "nbformat": 4,
 "nbformat_minor": 4
}
