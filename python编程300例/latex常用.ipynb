{
 "cells": [
  {
   "cell_type": "markdown",
   "metadata": {},
   "source": [
    "### 常用的符号"
   ]
  },
  {
   "cell_type": "markdown",
   "metadata": {},
   "source": [
    "$\n",
    "\\begin{align}\n",
    "小写希腊字符： \\\\\n",
    "& \\backslash alpha ：&\\alpha \\qquad  \\qquad \\qquad  \\qquad \n",
    "& \\backslash beta ：&\\beta \\qquad  \\qquad \\qquad  \\qquad \n",
    "& \\backslash chi ：&\\chi \\\\\n",
    "& \\backslash delta ：&\\delta  \\qquad  \\qquad \\qquad  \\qquad \n",
    "& \\backslash epsilon：&\\epsilon   \\qquad  \\qquad \\qquad  \\qquad \n",
    "& \\backslash eta：&\\eta \\\\\n",
    "& \\backslash gamma：&\\gamma  \\qquad  \\qquad \\qquad  \\qquad \n",
    "& \\backslash iota：&\\iota  \\qquad  \\qquad \\qquad  \\qquad \n",
    "& \\backslash lambda：&\\lambda \\\\\n",
    "& \\backslash nu：&\\nu  \\qquad  \\qquad \\qquad  \\qquad \n",
    "& \\backslash mu：&\\mu  \\qquad  \\qquad \\qquad  \\qquad \n",
    "& \\backslash o &o \\\\\n",
    "& \\backslash omega：&\\omega  \\qquad  \\qquad \\qquad  \\qquad \n",
    "& \\backslash phi：&\\phi  \\qquad  \\qquad \\qquad  \\qquad \n",
    "& \\backslash pi：&\\pi \\\\\n",
    "& \\backslash psi：&\\psi  \\qquad  \\qquad \\qquad  \\qquad \n",
    "& \\backslash rho：&\\rho  \\qquad  \\qquad \\qquad  \\qquad \n",
    "& \\backslash sigma：&\\sigma \\\\\n",
    "& \\backslash tau：&\\tau   \\qquad  \\qquad \\qquad  \\qquad \n",
    "& \\backslash theta：&\\theta   \\qquad  \\qquad \\qquad  \\qquad \n",
    "& \\backslash nabla： &\\nabla \\\\\n",
    "& \\backslash partial：&\\partial  \\qquad  \\qquad \\qquad  \\qquad \n",
    "& \\backslash upsilon：&\\upsilon  \\qquad  \\qquad \\qquad  \\qquad \n",
    "& \\backslash xi：&\\xi \\\\\n",
    "& \\backslash zeta：&\\zeta  \\qquad  \\qquad \\qquad  \\qquad \n",
    "& \\backslash digamma：&\\digamma  \\qquad  \\qquad \\qquad  \\qquad \n",
    "& \\backslash varepsilon：&\\varepsilon \\\\\n",
    "& \\backslash varkappa：&\\varkappa  \\qquad  \\qquad \\qquad  \\qquad \n",
    "& \\backslash varphi：&\\varphi  \\qquad  \\qquad \\qquad  \\qquad \n",
    "& \\backslash varpi：&\\varpi \\\\\n",
    "& \\backslash varrho：&\\varrho  \\qquad  \\qquad \\qquad  \\qquad \n",
    "& \\backslash varsigma：&\\varsigma  \\qquad  \\qquad \\qquad  \\qquad \n",
    "& \\backslash vartheta：&\\vartheta \\\\\n",
    "& \\backslash aleph：&\\aleph  \\qquad  \\qquad \\qquad  \\qquad \n",
    "& \\backslash beth：&\\beth  \\qquad  \\qquad \\qquad  \\qquad \n",
    "& \\backslash daleth：&\\daleth \\\\\n",
    "& \\backslash gimel：&\\gimel \\qquad  \\qquad \\qquad  \\qquad \\\\\n",
    "大写希腊字符：\\\\\n",
    "& \\backslash  Delta：&\\Delta  \\qquad  \\qquad \\qquad  \\qquad \n",
    "& \\backslash  Gamma：&\\Gamma  \\qquad  \\qquad \\qquad  \\qquad \n",
    "& \\backslash  Lambda：&\\Lambda \\\\\n",
    "& \\backslash  Omega：&\\Omega  \\qquad  \\qquad \\qquad  \\qquad \n",
    "& \\backslash  Phi：&\\Phi  \\qquad  \\qquad \\qquad  \\qquad \n",
    "& \\backslash  Pi：&\\Pi \\\\\n",
    "& \\backslash  Psi：&\\Psi  \\qquad  \\qquad \\qquad  \\qquad \n",
    "& \\backslash  Sigma：&\\Sigma  \\qquad  \\qquad \\qquad  \\qquad \n",
    "& \\backslash  Theta：&\\Theta \\\\\n",
    "& \\backslash  Upsilon：&\\Upsilon  \\qquad  \\qquad \\qquad  \\qquad \n",
    "& \\backslash  Xi：&\\Xi  \\qquad  \\qquad \\qquad  \\qquad\\\\\n",
    "数学模式重音符：\\\\\n",
    "& \\backslash hat\\{a\\}：&\\hat{a}  \\qquad  \\qquad \\qquad  \\qquad\n",
    "& \\backslash check\\{a\\}：&\\check{a}  \\qquad  \\qquad \\qquad  \\qquad\n",
    "& \\backslash tilde\\{a\\}：&\\tilde{a}\\\\\n",
    "& \\backslash acute\\{a\\}：&\\acute{a}  \\qquad  \\qquad \\qquad  \\qquad\n",
    "& \\backslash grave\\{a\\}：&\\grave{a}  \\qquad  \\qquad \\qquad  \\qquad\n",
    "& \\backslash dot\\{a\\}：&\\dot{a}\\\\\n",
    "& \\backslash ddot\\{a\\}：&\\ddot{a}  \\qquad  \\qquad \\qquad  \\qquad\n",
    "& \\backslash breve\\{a\\}：&\\breve{a}  \\qquad  \\qquad \\qquad  \\qquad\n",
    "& \\backslash bar\\{a\\}：&\\bar{a}\\\\\n",
    "& \\backslash vec\\{a\\}：&\\vec{a}  \\qquad  \\qquad \\qquad  \\qquad\n",
    "& \\backslash widehat\\{a\\}：&\\widehat{a}  \\qquad  \\qquad \\qquad  \\qquad\n",
    "& \\backslash widetilde\\{a\\}：&\\widetilde{a}\\\\\n",
    "\\end{align}\n",
    "$"
   ]
  },
  {
   "cell_type": "markdown",
   "metadata": {},
   "source": [
    "### 空格"
   ]
  },
  {
   "cell_type": "markdown",
   "metadata": {},
   "source": [
    "$\n",
    "\\begin{align}\n",
    "& 两个quad空格：&a \\backslash qquad b  \\qquad  \\qquad \\qquad &两个m的宽度 \\\\\n",
    "& quad空格：&a \\backslash quad b  \\qquad  \\qquad \\qquad   &一个m的宽度 \\\\\n",
    "& 大空格：&a\\backslash \\ b  \\qquad  \\qquad \\qquad  &1/3m宽度 \\\\ \n",
    "& 中等空格：&a\\backslash ;b  \\qquad  \\qquad \\qquad  &2/7m宽度 \\\\ \n",
    "& 小空格：&a\\backslash ,b\t  \\qquad  \\qquad \\qquad   &1/6m宽度 \\\\\n",
    "& 没有空格：&ab  \\qquad  \\qquad \\qquad  & 无 \\\\\n",
    "& 紧贴：&a\\backslash !b   \\qquad  \\qquad \\qquad   &缩进1/6m宽度 \n",
    "\\end{align}\n",
    "$"
   ]
  },
  {
   "cell_type": "markdown",
   "metadata": {},
   "source": [
    "### "
   ]
  },
  {
   "cell_type": "markdown",
   "metadata": {},
   "source": [
    "### 箭头"
   ]
  },
  {
   "cell_type": "markdown",
   "metadata": {},
   "source": [
    "$\n",
    "\\begin{align}\n",
    "&\\backslash leftarrow：& \\leftarrow  \\qquad  \\qquad \\qquad \n",
    "&\\backslash gets ：& \\gets  \\qquad  \\qquad \\qquad \n",
    "&\\backslash rightarrow ：& \\rightarrow\\\\\n",
    "&\\backslash to ：& \\to  \\qquad  \\qquad \\qquad \n",
    "&\\backslash uparrow ：& \\uparrow  \\qquad  \\qquad \\qquad \n",
    "&\\backslash downarrow ：& \\downarrow\\\\\n",
    "&\\backslash leftrightarrow ：& \\leftrightarrow  \\qquad  \\qquad \\qquad \n",
    "&\\backslash leftrightarrows ：& \\leftrightarrows  \\qquad  \\qquad \\qquad \n",
    "&\\backslash leftarrowtail ：& \\leftarrowtail\\\\\n",
    "&\\backslash twoheadleftarrow ：& \\twoheadleftarrow  \\qquad  \\qquad \\qquad \n",
    "&\\backslash Leftarrow ：& \\Leftarrow  \\qquad  \\qquad \\qquad \n",
    "&\\backslash Rightarrow ：& \\Rightarrow\\\\\n",
    "&\\backslash Uparrow ：& \\Uparrow  \\qquad  \\qquad \\qquad \n",
    "&\\backslash Downarrow ：& \\Downarrow  \\qquad  \\qquad \\qquad \n",
    "&\\backslash implies ：& \\implies\\\\\n",
    "&\\backslash iff：&  \\iff  \\qquad  \\qquad \\qquad \n",
    "&\\backslash swarrow ：& \\swarrow  \\qquad  \\qquad \\qquad \n",
    "&\\backslash searrow ：& \\searrow\\\\\n",
    "&\\backslash nearrow ：& \\nearrow  \\qquad  \\qquad \\qquad \n",
    "&\\backslash nwarrow ：& \\nwarrow  \\qquad  \\qquad \\qquad \n",
    "&\\backslash leftharpoondown：&  \\leftharpoondown\\\\\n",
    "&\\backslash upharpoonleft ：& \\upharpoonleft  \\qquad  \\qquad \\qquad \n",
    "&\\backslash circlearrowleft ：& \\circlearrowleft  \\qquad  \\qquad \\qquad \n",
    "&\\backslash circlearrowright ：& \\circlearrowright\\\\\n",
    "\\end{align}\n",
    "$"
   ]
  },
  {
   "cell_type": "markdown",
   "metadata": {},
   "source": [
    "### 几种常用的begin语法"
   ]
  },
  {
   "cell_type": "markdown",
   "metadata": {},
   "source": [
    "1. begin{cases}……end{cases}:\n",
    "\n",
    "$$\n",
    "\\text {语法格式： \\begin{cases}……\\end{cases}}\\\\\n",
    "n!=\\begin{cases}\n",
    "1,&n=0 \\\\\n",
    "n\\times(n-1)!,&n>0\n",
    "\\end{cases}\\\\\n",
    "$$\n",
    "\n",
    "\n",
    "2. begin{align}……end{align}:\n",
    "\n",
    "\n",
    "$$\n",
    "\\text {语法格式：\\begin{align}……\\end{align}}\\\\\n",
    "\\begin{align}\n",
    "\\nabla \\times \\vec{\\mathbf{B}} -\\, \\frac1c\\, \\frac{\\partial\\vec{\\mathbf{E}}}{\\partial t} & = \\frac{4\\pi}{c}\\vec{\\mathbf{j}} \\\\\n",
    "\\nabla \\cdot \\vec{\\mathbf{E}} & = 4 \\pi \\rho \\\\\n",
    "\\nabla \\times \\vec{\\mathbf{E}}\\, +\\, \\frac1c\\, \\frac{\\partial\\vec{\\mathbf{B}}}{\\partial t} & = \\vec{\\mathbf{0}} \\\\\n",
    "\\nabla \\cdot \\vec{\\mathbf{B}} & = 0\n",
    "\\end{align}\\\\\n",
    "$$\n",
    "\n",
    "\n",
    "3. begin{array}{clr}……end{array}:\n",
    "\n",
    "\n",
    "$$\n",
    "\\text {语法格式：\\begin{array}{clr}……\\end{array}}\\\\\n",
    "\\text {在这里，行列式和矩阵都是中间对齐的，如果你想左对齐或右对齐，你将{cccc}换成{llll}(左对齐)或{rrrr}(右对齐)就行了。 & 是对齐符号。l=left c=center r=right}\\\\\n",
    "\\left|\\begin{array}{ccc} \n",
    "    1 &    6    & 9 \\\\ \n",
    "    7 &    90   & f(x)\\\\ \n",
    "    9 & \\psi(x) & g(x) \n",
    "\\end{array}\\right|\\\\\n",
    "$$\n"
   ]
  },
  {
   "cell_type": "markdown",
   "metadata": {},
   "source": []
  }
 ],
 "metadata": {
  "kernelspec": {
   "display_name": "Python 3",
   "language": "python",
   "name": "python3"
  },
  "language_info": {
   "codemirror_mode": {
    "name": "ipython",
    "version": 3
   },
   "file_extension": ".py",
   "mimetype": "text/x-python",
   "name": "python",
   "nbconvert_exporter": "python",
   "pygments_lexer": "ipython3",
   "version": "3.8.8"
  },
  "toc-autonumbering": false,
  "toc-showtags": true
 },
 "nbformat": 4,
 "nbformat_minor": 4
}
