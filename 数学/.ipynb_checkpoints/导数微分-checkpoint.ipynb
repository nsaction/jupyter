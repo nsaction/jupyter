{
 "cells": [
  {
   "cell_type": "markdown",
   "id": "a1127236-d889-4813-8395-f00b5172921d",
   "metadata": {},
   "source": [
    "#### 微分的核心思想是逼近\n",
    "\n",
    "#### 微分的本质是“以直代曲”\n",
    "\n",
    "#### 对于一元函数，导数与微分本质上是一致的\n",
    "\n",
    "#### 对倒数进行研究的一大动力源于数学自身的需要，典型的数学问题是求切线的斜率"
   ]
  },
  {
   "cell_type": "markdown",
   "id": "24247e8e-e4c0-4a2b-85da-b93f3115da17",
   "metadata": {},
   "source": [
    "$\n",
    "\\frac {\\Delta y}{\\Delta x}=\\frac {f(x_0+\\Delta x)-f(x_0)}{\\Delta x}\\\\\n",
    "y=f(x)在x_0处的导数记为：f'(x_0) ，也可记为：f' |_{x=x_0}， \\frac {dy}{dx}|_{x=x_0}或 \\frac{df(x)}{dx}|_{x=x_0}\\\\\n",
    "\\lim\\limits _{\\Delta x \\to +\\infty}\n",
    "$"
   ]
  },
  {
   "cell_type": "markdown",
   "id": "a1c6da05-3bc3-48f2-93ef-57b532db0caf",
   "metadata": {},
   "source": [
    "#### 一、极限与python\n",
    "\n",
    "sympy.limit(e,z,z0,dir='+')\n",
    "- e:接收sympy表达式，表示需要进行求根的数到一般项货函数\n",
    "- z：接收sympy表示需要求极限的数列的项或表达式的自变量\n",
    "- z0：接收any expression，包括所有类型的数值，oo和-oo表示自变量趋于有限值或无限值\n",
    "- dir：接收+或-，取值为+表示求趋于有限制的右极限（z$\\to$z0+）,取值-时，表示求趋于有限制的左极限（z$\\to$z0-）,对于无穷大的z0（oo或-oo），dir参数无效。默认值为+"
   ]
  },
  {
   "cell_type": "code",
   "execution_count": 14,
   "id": "ec2cb457-35c4-4eab-9971-78af54b3744f",
   "metadata": {},
   "outputs": [
    {
     "name": "stdout",
     "output_type": "stream",
     "text": [
      "数列的极限为:\n",
      " 1\n"
     ]
    }
   ],
   "source": [
    "from sympy import *\n",
    "\n",
    "n = Symbol(\"n\")\n",
    "s = n/(n+1)\n",
    "print('数列的极限为:\\n',limit(s,n,oo))\n"
   ]
  }
 ],
 "metadata": {
  "kernelspec": {
   "display_name": "Python 3",
   "language": "python",
   "name": "python3"
  },
  "language_info": {
   "codemirror_mode": {
    "name": "ipython",
    "version": 3
   },
   "file_extension": ".py",
   "mimetype": "text/x-python",
   "name": "python",
   "nbconvert_exporter": "python",
   "pygments_lexer": "ipython3",
   "version": "3.8.8"
  }
 },
 "nbformat": 4,
 "nbformat_minor": 5
}
