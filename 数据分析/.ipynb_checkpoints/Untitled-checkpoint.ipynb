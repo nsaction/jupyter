{
 "cells": [
  {
   "cell_type": "code",
   "execution_count": 31,
   "metadata": {},
   "outputs": [
    {
     "data": {
      "text/plain": [
       "a    5\n",
       "b    5\n",
       "c    5\n",
       "d    5\n",
       "e    5\n",
       "dtype: int64"
      ]
     },
     "execution_count": 31,
     "metadata": {},
     "output_type": "execute_result"
    }
   ],
   "source": [
    "import pandas as pd\n",
    "import numpy as np\n",
    "\n",
    "#Series的生成\n",
    "\n",
    "#1.使用列表和元组\n",
    "pd.Series(['a','b','c','d'])\n",
    "pd.Series(('a','b','c','d'))\n",
    "\n",
    "#2.使用ndarray\n",
    "s = pd.Series(np.random.randn(5),index=['a','b','c','d','e'])\n",
    "s.index\n",
    "\n",
    "#3.使用字典\n",
    "d = {'a':1,'b':2,\"c\":3,'d':4}\n",
    "pd.Series(d)\n",
    "\n",
    "#4.使用实际标量b\n",
    "pd.Series(5)\n",
    "pd.Series(5,index=['a','b','c','d','e'])\n",
    "pd.Series"
   ]
  },
  {
   "cell_type": "code",
   "execution_count": 38,
   "metadata": {},
   "outputs": [
    {
     "data": {
      "text/html": [
       "<div>\n",
       "<style scoped>\n",
       "    .dataframe tbody tr th:only-of-type {\n",
       "        vertical-align: middle;\n",
       "    }\n",
       "\n",
       "    .dataframe tbody tr th {\n",
       "        vertical-align: top;\n",
       "    }\n",
       "\n",
       "    .dataframe thead th {\n",
       "        text-align: right;\n",
       "    }\n",
       "</style>\n",
       "<table border=\"1\" class=\"dataframe\">\n",
       "  <thead>\n",
       "    <tr style=\"text-align: right;\">\n",
       "      <th></th>\n",
       "      <th>0</th>\n",
       "    </tr>\n",
       "  </thead>\n",
       "  <tbody>\n",
       "    <tr>\n",
       "      <th>0</th>\n",
       "      <td>a</td>\n",
       "    </tr>\n",
       "    <tr>\n",
       "      <th>1</th>\n",
       "      <td>b</td>\n",
       "    </tr>\n",
       "    <tr>\n",
       "      <th>2</th>\n",
       "      <td>c</td>\n",
       "    </tr>\n",
       "    <tr>\n",
       "      <th>3</th>\n",
       "      <td>d</td>\n",
       "    </tr>\n",
       "  </tbody>\n",
       "</table>\n",
       "</div>"
      ],
      "text/plain": [
       "   0\n",
       "0  a\n",
       "1  b\n",
       "2  c\n",
       "3  d"
      ]
     },
     "execution_count": 38,
     "metadata": {},
     "output_type": "execute_result"
    }
   ],
   "source": [
    "#生成dataframe\n",
    "\n",
    "\"\"\"\n",
    "语法格式：\n",
    "        df=pd.DataFrame(data=None,index=None,column=None)\n",
    "        data：具体数据，结构化或同构的ndarray、可迭代对象、字典或DataFrame\n",
    "        index：索引，类似于数组的对象，支持解包，如果没哟指定，会自动生成Rangeindex（0,1,2，……，n）\n",
    "        columns：列索引、表头、如果没哟指定，会自动生成Rangeindex（0,1,2，……，n）\n",
    "\"\"\"\n",
    "\n",
    "#1.字典\n",
    "D={'国家':['中国','美国','日本'],\n",
    "   '人口':[14.33,3.29,1.26]}\n",
    "pd.DataFrame(D)\n",
    "\n",
    "#2.Series组成的字典\n",
    "d = {'x':pd.Series([1,2,3],index=['a','b','c']),\n",
    "     'y':pd.Series([1,2,3,4],index=['a','b','c','d'])}\n",
    "pd.DataFrame(d)\n",
    "\n",
    "#3.字典组成的列表\n",
    "data=[{'x':1,'y':2},{'x':3,'y':4,'z':5}]\n",
    "pd.DataFrame(data)\n",
    "pd.DataFrame(data,index=['a','b'])\n",
    "\n",
    "#4.Series生成\n",
    "s=pd.Series(['a','b','c','d'])\n",
    "pd.DataFrame(s)"
   ]
  },
  {
   "cell_type": "markdown",
   "metadata": {},
   "source": [
    "Pandas常见数据类型：\n",
    "        float,int,bool,datetime64[ns],datetime64[ns,tz],\n",
    "        timedelta64[ns],timedelta[ns],category,object,string"
   ]
  },
  {
   "cell_type": "code",
   "execution_count": null,
   "metadata": {},
   "outputs": [],
   "source": [
    "import pandas as pd\n",
    "\n",
    "%matplotlib widget\n",
    "\n",
    "df.to_excel(\n",
    "pd.DataFrame("
   ]
  }
 ],
 "metadata": {
  "kernelspec": {
   "display_name": "Python 3",
   "language": "python",
   "name": "python3"
  },
  "language_info": {
   "codemirror_mode": {
    "name": "ipython",
    "version": 3
   },
   "file_extension": ".py",
   "mimetype": "text/x-python",
   "name": "python",
   "nbconvert_exporter": "python",
   "pygments_lexer": "ipython3",
   "version": "3.8.8"
  }
 },
 "nbformat": 4,
 "nbformat_minor": 4
}
