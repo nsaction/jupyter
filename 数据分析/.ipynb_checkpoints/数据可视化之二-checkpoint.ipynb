{
 "cells": [
  {
   "cell_type": "markdown",
   "metadata": {},
   "source": [
    "### 条形图的绘制\n",
    "\n",
    "bar(x, height, width=0.8, bottom=None, color=None, edgecolor=None,tick_label=None, label = None, ecolor=None)\n",
    "\n",
    "- x：传递数值序列，指定条形图中x轴上的刻度值 \n",
    "- height：传递数值序列，指定条形图y轴上的高度 \n",
    "- width：指定条形图的宽度，默认为0.8 \n",
    "- bottom：用于绘制堆叠条形图 \n",
    "- color：指定条形图的填充色 \n",
    "- edgecolor：指定条形图的边框色 \n",
    "- tick_label：指定条形图的刻度标签 \n",
    "- label：指定条形图的标签，一般用以添加图例"
   ]
  },
  {
   "cell_type": "code",
   "execution_count": 38,
   "metadata": {},
   "outputs": [
    {
     "data": {
      "image/png": "[encoded data removed]",
      "text/plain": [
       "<Figure size 432x288 with 1 Axes>"
      ]
     },
     "metadata": {},
     "output_type": "display_data"
    }
   ],
   "source": [
    "import pandas as pd\n",
    "import matplotlib.pyplot as plt\n",
    "\n",
    "# 读入数据 \n",
    "GDP = pd.read_excel(r'.\\data\\Province GDP 2017.xlsx') \n",
    "\n",
    "plt.rcParams['font.family']=['SimHei']\n",
    "\n",
    "# 设置绘图风格（不妨使用R语言中的ggplot2风格） \n",
    "plt.style.use('ggplot')\n",
    "#绘制图形\n",
    "plt.bar(x=range(GDP.shape[0]),\n",
    "       height=GDP.GDP,\n",
    "       tick_label=GDP.Province,\n",
    "       color='steelblue')\n",
    "\n",
    "#添加y轴标签\n",
    "plt.ylabel('GDP(万亿)')\n",
    "#添加标题\n",
    "plt.title('2017年度6个省份GDP分布')\n",
    "#为每个条形图添加数值标签\n",
    "for x,y in enumerate(GDP.GDP):\n",
    "    plt.text(x,y+0.2,'%s' %round(y,1),ha='center')\n",
    "\n",
    "#显示图形\n",
    "plt.show()"
   ]
  },
  {
   "cell_type": "code",
   "execution_count": 44,
   "metadata": {},
   "outputs": [
    {
     "data": {
      "text/html": [
       "<div>\n",
       "<style scoped>\n",
       "    .dataframe tbody tr th:only-of-type {\n",
       "        vertical-align: middle;\n",
       "    }\n",
       "\n",
       "    .dataframe tbody tr th {\n",
       "        vertical-align: top;\n",
       "    }\n",
       "\n",
       "    .dataframe thead th {\n",
       "        text-align: right;\n",
       "    }\n",
       "</style>\n",
       "<table border=\"1\" class=\"dataframe\">\n",
       "  <thead>\n",
       "    <tr style=\"text-align: right;\">\n",
       "      <th></th>\n",
       "      <th>Province</th>\n",
       "      <th>GDP</th>\n",
       "    </tr>\n",
       "  </thead>\n",
       "  <tbody>\n",
       "    <tr>\n",
       "      <th>0</th>\n",
       "      <td>天津</td>\n",
       "      <td>1.86</td>\n",
       "    </tr>\n",
       "    <tr>\n",
       "      <th>1</th>\n",
       "      <td>重庆</td>\n",
       "      <td>1.95</td>\n",
       "    </tr>\n",
       "    <tr>\n",
       "      <th>2</th>\n",
       "      <td>北京</td>\n",
       "      <td>2.80</td>\n",
       "    </tr>\n",
       "    <tr>\n",
       "      <th>3</th>\n",
       "      <td>上海</td>\n",
       "      <td>3.01</td>\n",
       "    </tr>\n",
       "    <tr>\n",
       "      <th>4</th>\n",
       "      <td>江苏</td>\n",
       "      <td>8.59</td>\n",
       "    </tr>\n",
       "    <tr>\n",
       "      <th>5</th>\n",
       "      <td>广东</td>\n",
       "      <td>8.99</td>\n",
       "    </tr>\n",
       "  </tbody>\n",
       "</table>\n",
       "</div>"
      ],
      "text/plain": [
       "  Province   GDP\n",
       "0       天津  1.86\n",
       "1       重庆  1.95\n",
       "2       北京  2.80\n",
       "3       上海  3.01\n",
       "4       江苏  8.59\n",
       "5       广东  8.99"
      ]
     },
     "execution_count": 44,
     "metadata": {},
     "output_type": "execute_result"
    }
   ],
   "source": [
    "GDP.sort_values(by=\"GDP\",inplace=True,ignore_index=True)\n",
    "GDP"
   ]
  },
  {
   "cell_type": "code",
   "execution_count": 49,
   "metadata": {},
   "outputs": [
    {
     "data": {
      "image/png": "[encoded data removed]",
      "text/plain": [
       "<Figure size 432x288 with 1 Axes>"
      ]
     },
     "metadata": {},
     "output_type": "display_data"
    }
   ],
   "source": [
    "plt.barh(y=range(GDP.shape[0]),\n",
    "        width=GDP.GDP,\n",
    "        tick_label=GDP.Province,\n",
    "        color='steelblue')\n",
    "\n",
    "plt.title('2017年度6个省份GDP分布')\n",
    "#添加y轴标签\n",
    "plt.xlabel('GDP(万亿)')\n",
    "#为每个条形图添加数值标签\n",
    "for y,x in enumerate(GDP.GDP):\n",
    "    plt.text(x+0.3,y,'%s' %round(x,1),ha='center')\n",
    "\n",
    "plt.show()"
   ]
  },
  {
   "cell_type": "code",
   "execution_count": 57,
   "metadata": {},
   "outputs": [
    {
     "name": "stdout",
     "output_type": "stream",
     "text": [
      "   Year  Counts City\n",
      "0  2016   15600   北京\n",
      "1  2016   12700   上海\n",
      "2  2016   11300   香港\n",
      "3  2016    4270   深圳\n",
      "4  2016    3620   广州\n",
      "5  2017   17400   北京\n",
      "6  2017   14800   上海\n",
      "7  2017   12000   香港\n",
      "8  2017    5200   深圳\n",
      "9  2017    4020   广州\n"
     ]
    },
    {
     "data": {
      "text/html": [
       "<div>\n",
       "<style scoped>\n",
       "    .dataframe tbody tr th:only-of-type {\n",
       "        vertical-align: middle;\n",
       "    }\n",
       "\n",
       "    .dataframe tbody tr th {\n",
       "        vertical-align: top;\n",
       "    }\n",
       "\n",
       "    .dataframe thead th {\n",
       "        text-align: right;\n",
       "    }\n",
       "</style>\n",
       "<table border=\"1\" class=\"dataframe\">\n",
       "  <thead>\n",
       "    <tr style=\"text-align: right;\">\n",
       "      <th>Year</th>\n",
       "      <th>City</th>\n",
       "      <th>2016</th>\n",
       "      <th>2017</th>\n",
       "    </tr>\n",
       "  </thead>\n",
       "  <tbody>\n",
       "    <tr>\n",
       "      <th>0</th>\n",
       "      <td>上海</td>\n",
       "      <td>12700</td>\n",
       "      <td>14800</td>\n",
       "    </tr>\n",
       "    <tr>\n",
       "      <th>1</th>\n",
       "      <td>北京</td>\n",
       "      <td>15600</td>\n",
       "      <td>17400</td>\n",
       "    </tr>\n",
       "    <tr>\n",
       "      <th>2</th>\n",
       "      <td>广州</td>\n",
       "      <td>3620</td>\n",
       "      <td>4020</td>\n",
       "    </tr>\n",
       "    <tr>\n",
       "      <th>3</th>\n",
       "      <td>深圳</td>\n",
       "      <td>4270</td>\n",
       "      <td>5200</td>\n",
       "    </tr>\n",
       "    <tr>\n",
       "      <th>4</th>\n",
       "      <td>香港</td>\n",
       "      <td>11300</td>\n",
       "      <td>12000</td>\n",
       "    </tr>\n",
       "  </tbody>\n",
       "</table>\n",
       "</div>"
      ],
      "text/plain": [
       "Year City   2016   2017\n",
       "0      上海  12700  14800\n",
       "1      北京  15600  17400\n",
       "2      广州   3620   4020\n",
       "3      深圳   4270   5200\n",
       "4      香港  11300  12000"
      ]
     },
     "execution_count": 57,
     "metadata": {},
     "output_type": "execute_result"
    }
   ],
   "source": [
    "hurun = pd.read_excel(r'.\\data\\HuRun.xlsx')\n",
    "hurun_reshape=hurun.pivot_table(index='City',\n",
    "                                columns='Year',\n",
    "                                values='Counts').reset_index()\n",
    "print(hurun)\n",
    "hurun_reshape"
   ]
  },
  {
   "cell_type": "code",
   "execution_count": 62,
   "metadata": {},
   "outputs": [
    {
     "data": {
      "text/html": [
       "<div>\n",
       "<style scoped>\n",
       "    .dataframe tbody tr th:only-of-type {\n",
       "        vertical-align: middle;\n",
       "    }\n",
       "\n",
       "    .dataframe tbody tr th {\n",
       "        vertical-align: top;\n",
       "    }\n",
       "\n",
       "    .dataframe thead th {\n",
       "        text-align: right;\n",
       "    }\n",
       "</style>\n",
       "<table border=\"1\" class=\"dataframe\">\n",
       "  <thead>\n",
       "    <tr style=\"text-align: right;\">\n",
       "      <th>Year</th>\n",
       "      <th>City</th>\n",
       "      <th>2016</th>\n",
       "      <th>2017</th>\n",
       "    </tr>\n",
       "  </thead>\n",
       "  <tbody>\n",
       "    <tr>\n",
       "      <th>0</th>\n",
       "      <td>北京</td>\n",
       "      <td>15600</td>\n",
       "      <td>17400</td>\n",
       "    </tr>\n",
       "    <tr>\n",
       "      <th>1</th>\n",
       "      <td>上海</td>\n",
       "      <td>12700</td>\n",
       "      <td>14800</td>\n",
       "    </tr>\n",
       "    <tr>\n",
       "      <th>2</th>\n",
       "      <td>香港</td>\n",
       "      <td>11300</td>\n",
       "      <td>12000</td>\n",
       "    </tr>\n",
       "    <tr>\n",
       "      <th>3</th>\n",
       "      <td>深圳</td>\n",
       "      <td>4270</td>\n",
       "      <td>5200</td>\n",
       "    </tr>\n",
       "    <tr>\n",
       "      <th>4</th>\n",
       "      <td>广州</td>\n",
       "      <td>3620</td>\n",
       "      <td>4020</td>\n",
       "    </tr>\n",
       "  </tbody>\n",
       "</table>\n",
       "</div>"
      ],
      "text/plain": [
       "Year City   2016   2017\n",
       "0      北京  15600  17400\n",
       "1      上海  12700  14800\n",
       "2      香港  11300  12000\n",
       "3      深圳   4270   5200\n",
       "4      广州   3620   4020"
      ]
     },
     "execution_count": 62,
     "metadata": {},
     "output_type": "execute_result"
    }
   ],
   "source": [
    "hurun_reshape.sort_values(by=2016,ascending=False,inplace=True,ignore_index=True)\n",
    "hurun_reshape"
   ]
  },
  {
   "cell_type": "code",
   "execution_count": 72,
   "metadata": {},
   "outputs": [
    {
     "data": {
      "image/png": "[encoded data removed]",
      "text/plain": [
       "<Figure size 432x288 with 1 Axes>"
      ]
     },
     "metadata": {},
     "output_type": "display_data"
    }
   ],
   "source": [
    "hurun_reshape.plot(x='City',\n",
    "                   y=[2016,2017],\n",
    "                   kind='bar',\n",
    "                   color=['steelblue','indianred'],\n",
    "# 用于旋转X轴刻度标签的角度，0表示水平显示刻度标签 \n",
    "                   rot=0,\n",
    "                   width=0.8,\n",
    "                   title='近两年5个城市亿万资产家庭数比较')\n",
    "\n",
    "plt.ylabel('亿万资产家庭数')\n",
    "plt.xlabel('')\n",
    "plt.show()\n"
   ]
  }
 ],
 "metadata": {
  "kernelspec": {
   "display_name": "Python 3",
   "language": "python",
   "name": "python3"
  },
  "language_info": {
   "codemirror_mode": {
    "name": "ipython",
    "version": 3
   },
   "file_extension": ".py",
   "mimetype": "text/x-python",
   "name": "python",
   "nbconvert_exporter": "python",
   "pygments_lexer": "ipython3",
   "version": "3.8.8"
  }
 },
 "nbformat": 4,
 "nbformat_minor": 4
}
