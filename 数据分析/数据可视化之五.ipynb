{
 "cells": [
  {
   "cell_type": "markdown",
   "metadata": {},
   "source": [
    "### 组合图的绘制\n",
    "\n",
    "plt.subplot2grid(shape, loc, rowspan=1, colspan=1, **kwargs)\n",
    "\n",
    "- shape：指定组合图的框架形状，以元组形式传递，如2×3的矩阵可以表示成(2,3) \n",
    "- loc：指定子图所在的位置，如shape中第一行第一列可以表示成(0,0) \n",
    "- rowspan：指定某个子图需要跨几行 \n",
    "- colspan：指定某个子图需要跨几列"
   ]
  },
  {
   "cell_type": "code",
   "execution_count": 1,
   "metadata": {},
   "outputs": [
    {
     "data": {
      "text/html": [
       "<div>\n",
       "<style scoped>\n",
       "    .dataframe tbody tr th:only-of-type {\n",
       "        vertical-align: middle;\n",
       "    }\n",
       "\n",
       "    .dataframe tbody tr th {\n",
       "        vertical-align: top;\n",
       "    }\n",
       "\n",
       "    .dataframe thead th {\n",
       "        text-align: right;\n",
       "    }\n",
       "</style>\n",
       "<table border=\"1\" class=\"dataframe\">\n",
       "  <thead>\n",
       "    <tr style=\"text-align: right;\">\n",
       "      <th></th>\n",
       "      <th>Date</th>\n",
       "      <th>Order_Class</th>\n",
       "      <th>Sales</th>\n",
       "      <th>Transport</th>\n",
       "      <th>Trans_Cost</th>\n",
       "      <th>Region</th>\n",
       "      <th>Category</th>\n",
       "      <th>Box_Type</th>\n",
       "    </tr>\n",
       "  </thead>\n",
       "  <tbody>\n",
       "    <tr>\n",
       "      <th>0</th>\n",
       "      <td>2010-10-13</td>\n",
       "      <td>低级</td>\n",
       "      <td>261.5400</td>\n",
       "      <td>火车</td>\n",
       "      <td>35.00</td>\n",
       "      <td>华北</td>\n",
       "      <td>办公用品</td>\n",
       "      <td>大型箱子</td>\n",
       "    </tr>\n",
       "    <tr>\n",
       "      <th>1</th>\n",
       "      <td>2012-02-20</td>\n",
       "      <td>其它</td>\n",
       "      <td>6.0000</td>\n",
       "      <td>火车</td>\n",
       "      <td>2.56</td>\n",
       "      <td>华南</td>\n",
       "      <td>办公用品</td>\n",
       "      <td>小型包裹</td>\n",
       "    </tr>\n",
       "    <tr>\n",
       "      <th>2</th>\n",
       "      <td>2011-07-15</td>\n",
       "      <td>高级</td>\n",
       "      <td>2808.0800</td>\n",
       "      <td>火车</td>\n",
       "      <td>5.81</td>\n",
       "      <td>华南</td>\n",
       "      <td>家具产品</td>\n",
       "      <td>中型箱子</td>\n",
       "    </tr>\n",
       "    <tr>\n",
       "      <th>3</th>\n",
       "      <td>2011-07-15</td>\n",
       "      <td>高级</td>\n",
       "      <td>1761.4000</td>\n",
       "      <td>大卡</td>\n",
       "      <td>89.30</td>\n",
       "      <td>华北</td>\n",
       "      <td>家具产品</td>\n",
       "      <td>巨型纸箱</td>\n",
       "    </tr>\n",
       "    <tr>\n",
       "      <th>4</th>\n",
       "      <td>2011-07-15</td>\n",
       "      <td>高级</td>\n",
       "      <td>160.2335</td>\n",
       "      <td>火车</td>\n",
       "      <td>5.03</td>\n",
       "      <td>华北</td>\n",
       "      <td>技术产品</td>\n",
       "      <td>中型箱子</td>\n",
       "    </tr>\n",
       "    <tr>\n",
       "      <th>...</th>\n",
       "      <td>...</td>\n",
       "      <td>...</td>\n",
       "      <td>...</td>\n",
       "      <td>...</td>\n",
       "      <td>...</td>\n",
       "      <td>...</td>\n",
       "      <td>...</td>\n",
       "      <td>...</td>\n",
       "    </tr>\n",
       "    <tr>\n",
       "      <th>8563</th>\n",
       "      <td>2012-11-15</td>\n",
       "      <td>高级</td>\n",
       "      <td>18.9100</td>\n",
       "      <td>火车</td>\n",
       "      <td>7.01</td>\n",
       "      <td>华东</td>\n",
       "      <td>办公用品</td>\n",
       "      <td>小型箱子</td>\n",
       "    </tr>\n",
       "    <tr>\n",
       "      <th>8564</th>\n",
       "      <td>2012-11-15</td>\n",
       "      <td>高级</td>\n",
       "      <td>685.7000</td>\n",
       "      <td>火车</td>\n",
       "      <td>20.79</td>\n",
       "      <td>华南</td>\n",
       "      <td>家具产品</td>\n",
       "      <td>大型箱子</td>\n",
       "    </tr>\n",
       "    <tr>\n",
       "      <th>8565</th>\n",
       "      <td>2012-11-15</td>\n",
       "      <td>高级</td>\n",
       "      <td>1024.1650</td>\n",
       "      <td>火车</td>\n",
       "      <td>5.99</td>\n",
       "      <td>华南</td>\n",
       "      <td>技术产品</td>\n",
       "      <td>小型箱子</td>\n",
       "    </tr>\n",
       "    <tr>\n",
       "      <th>8566</th>\n",
       "      <td>2009-01-23</td>\n",
       "      <td>中级</td>\n",
       "      <td>1383.2000</td>\n",
       "      <td>火车</td>\n",
       "      <td>12.14</td>\n",
       "      <td>华南</td>\n",
       "      <td>技术产品</td>\n",
       "      <td>小型箱子</td>\n",
       "    </tr>\n",
       "    <tr>\n",
       "      <th>8567</th>\n",
       "      <td>2011-05-27</td>\n",
       "      <td>其它</td>\n",
       "      <td>211.4200</td>\n",
       "      <td>火车</td>\n",
       "      <td>9.45</td>\n",
       "      <td>华南</td>\n",
       "      <td>办公用品</td>\n",
       "      <td>小型箱子</td>\n",
       "    </tr>\n",
       "  </tbody>\n",
       "</table>\n",
       "<p>8568 rows × 8 columns</p>\n",
       "</div>"
      ],
      "text/plain": [
       "           Date Order_Class      Sales Transport  Trans_Cost Region Category  \\\n",
       "0    2010-10-13          低级   261.5400        火车       35.00     华北     办公用品   \n",
       "1    2012-02-20          其它     6.0000        火车        2.56     华南     办公用品   \n",
       "2    2011-07-15          高级  2808.0800        火车        5.81     华南     家具产品   \n",
       "3    2011-07-15          高级  1761.4000        大卡       89.30     华北     家具产品   \n",
       "4    2011-07-15          高级   160.2335        火车        5.03     华北     技术产品   \n",
       "...         ...         ...        ...       ...         ...    ...      ...   \n",
       "8563 2012-11-15          高级    18.9100        火车        7.01     华东     办公用品   \n",
       "8564 2012-11-15          高级   685.7000        火车       20.79     华南     家具产品   \n",
       "8565 2012-11-15          高级  1024.1650        火车        5.99     华南     技术产品   \n",
       "8566 2009-01-23          中级  1383.2000        火车       12.14     华南     技术产品   \n",
       "8567 2011-05-27          其它   211.4200        火车        9.45     华南     办公用品   \n",
       "\n",
       "     Box_Type  \n",
       "0        大型箱子  \n",
       "1        小型包裹  \n",
       "2        中型箱子  \n",
       "3        巨型纸箱  \n",
       "4        中型箱子  \n",
       "...       ...  \n",
       "8563     小型箱子  \n",
       "8564     大型箱子  \n",
       "8565     小型箱子  \n",
       "8566     小型箱子  \n",
       "8567     小型箱子  \n",
       "\n",
       "[8568 rows x 8 columns]"
      ]
     },
     "execution_count": 1,
     "metadata": {},
     "output_type": "execute_result"
    }
   ],
   "source": [
    "import pandas as pd\n",
    "import numpy as np\n",
    "import matplotlib.pyplot as plt\n",
    "import seaborn as sns\n",
    "\n",
    "Trade = pd.read_excel(r'.\\data\\Prod_Trade.xlsx')       \n",
    "Trade"
   ]
  },
  {
   "cell_type": "code",
   "execution_count": null,
   "metadata": {},
   "outputs": [],
   "source": [
    "#设置子图布局\n",
    "plt.figure(figsize=(12,6))\n",
    "ax1 = plt.subplot2grid(shape=(2,3),loc=(0,0))\n",
    "ax2 = plt.subplot2grid(shape=(2,3),loc=(0,1))\n",
    "ax3 = plt.subplot2grid(shape=(2,3),loc=(0,2),rowspan=2)\n",
    "ax4 = plt.subplot2grid(shape=(2,3),loc=(0,0),colspan=2)\n",
    "\n",
    "plt.rcParams['font.family']=['SimHei']"
   ]
  },
  {
   "cell_type": "code",
   "execution_count": 2,
   "metadata": {},
   "outputs": [
    {
     "data": {
      "text/plain": [
       "Text(0.5, 1.0, '各等级订单比例')"
      ]
     },
     "execution_count": 2,
     "metadata": {},
     "output_type": "execute_result"
    },
    {
     "data": {
      "image/png": "[encoded data removed]",
      "text/plain": [
       "<Figure size 432x288 with 1 Axes>"
      ]
     },
     "metadata": {},
     "output_type": "display_data"
    }
   ],
   "source": [
    "plt.rcParams['font.family']=['SimHei']\n",
    "ax1 = plt.subplot2grid(shape=(2,3),loc=(0,0))\n",
    "#提取出年份和月份字段\n",
    "Trade['year']=Trade.Date.dt.year\n",
    "Trade['month']=Trade.Date.dt.month\n",
    "\n",
    "#统计2012年各订单等级的数量\n",
    "Class_Counts = Trade.Order_Class[Trade.year==2012].value_counts()\n",
    "Class_Percent = Class_Counts/Class_Counts.sum()\n",
    "\n",
    "#绘制订单等级饼图\n",
    "ax1.pie(x=Class_Counts,labels = Class_Percent.index,autopct='%.1f%%')\n",
    "#添加标题\n",
    "ax1.set_title('各等级订单比例')"
   ]
  },
  {
   "cell_type": "code",
   "execution_count": 3,
   "metadata": {},
   "outputs": [
    {
     "data": {
      "text/plain": [
       "Text(0.5, 0, '')"
      ]
     },
     "execution_count": 3,
     "metadata": {},
     "output_type": "execute_result"
    },
    {
     "data": {
      "image/png": "[encoded data removed]",
      "text/plain": [
       "<Figure size 432x288 with 1 Axes>"
      ]
     },
     "metadata": {
      "needs_background": "light"
     },
     "output_type": "display_data"
    }
   ],
   "source": [
    "ax2 = plt.subplot2grid(shape=(2,3),loc=(0,1))\n",
    "plt.rcParams['font.family']=['SimHei']\n",
    "#统计2012年每月销售额\n",
    "Month_Sales = Trade[Trade.year==2012].groupby(by='month').agg({'Sales':np.sum})\n",
    "# Month_Sales.pivot_table(index='month',values='Sales',aggfunc==np.sum)\n",
    "\n",
    "#绘制销售额趋势图\n",
    "Month_Sales.plot(title = '2012年各月销售趋势', ax = ax2, legend = False)\n",
    "#删除X轴标签\n",
    "ax2.set_xlabel('')"
   ]
  },
  {
   "cell_type": "code",
   "execution_count": 8,
   "metadata": {},
   "outputs": [
    {
     "data": {
      "text/plain": [
       "Text(0, 0.5, '运输成本')"
      ]
     },
     "execution_count": 8,
     "metadata": {},
     "output_type": "execute_result"
    },
    {
     "data": {
      "image/png": "[encoded data removed]",
      "text/plain": [
       "<Figure size 432x288 with 1 Axes>"
      ]
     },
     "metadata": {
      "needs_background": "light"
     },
     "output_type": "display_data"
    }
   ],
   "source": [
    "plt.rcParams['font.family']=['SimHei']\n",
    "ax3 = plt.subplot2grid(shape=(2,3),loc=(0,2),rowspan=2)\n",
    "#绘制各运输方式的成本箱线图\n",
    "sns.boxplot(x='Transport',y='Trans_Cost',data=Trade,ax=ax3)\n",
    "#添加标题\n",
    "ax3.set_title('各运输方式成本分布')\n",
    "#删除x轴标签\n",
    "ax3.set_xlabel('')\n",
    "#设置y轴标签\n",
    "ax3.set_ylabel('运输成本')"
   ]
  },
  {
   "cell_type": "code",
   "execution_count": 5,
   "metadata": {},
   "outputs": [
    {
     "name": "stderr",
     "output_type": "stream",
     "text": [
      "C:\\Users\\Administrator\\anaconda3\\lib\\site-packages\\seaborn\\distributions.py:2557: FutureWarning: `distplot` is a deprecated function and will be removed in a future version. Please adapt your code to use either `displot` (a figure-level function with similar flexibility) or `histplot` (an axes-level function for histograms).\n",
      "  warnings.warn(msg, FutureWarning)\n"
     ]
    },
    {
     "data": {
      "image/png": "[encoded data removed]",
      "text/plain": [
       "<Figure size 432x288 with 1 Axes>"
      ]
     },
     "metadata": {
      "needs_background": "light"
     },
     "output_type": "display_data"
    }
   ],
   "source": [
    "plt.rcParams['font.family']=['SimHei']\n",
    "# 设置第四个子图的布局\n",
    "ax4 = plt.subplot2grid(shape = (2,3), loc = (1,0), colspan = 2)\n",
    "# 2012年客单价分布直方图\n",
    "sns.distplot(Trade.Sales[Trade.year == 2012], bins = 40, norm_hist = True, ax = ax4, hist_kws = {'color':'steelblue'}, kde_kws=({'linestyle':'--', 'color':'red'}))\n",
    "# 添加标题\n",
    "ax4.set_title('2012年客单价分布图')\n",
    "# 修改x轴标签\n",
    "ax4.set_xlabel('销售额')\n",
    "# 调整子图之间的水平间距和高度间距\n",
    "plt.subplots_adjust(hspace=0.6, wspace=0.3)\n",
    "# 图形显示\n",
    "plt.show()"
   ]
  }
 ],
 "metadata": {
  "kernelspec": {
   "display_name": "Python 3",
   "language": "python",
   "name": "python3"
  },
  "language_info": {
   "codemirror_mode": {
    "name": "ipython",
    "version": 3
   },
   "file_extension": ".py",
   "mimetype": "text/x-python",
   "name": "python",
   "nbconvert_exporter": "python",
   "pygments_lexer": "ipython3",
   "version": "3.7.6"
  }
 },
 "nbformat": 4,
 "nbformat_minor": 4
}
